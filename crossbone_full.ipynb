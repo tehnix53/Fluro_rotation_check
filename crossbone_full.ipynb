{
 "cells": [
  {
   "cell_type": "code",
   "execution_count": 1,
   "metadata": {},
   "outputs": [],
   "source": [
    "import pandas as pd\n",
    "import numpy as np \n",
    "import json\n",
    "import os\n",
    "from PIL import Image\n",
    "import matplotlib.pyplot as plt\n",
    "from scipy import interpolate\n",
    "from matplotlib.pyplot import imshow\n",
    "import math\n",
    "import sys\n",
    "%matplotlib inline\n",
    "np.set_printoptions(threshold=sys.maxsize)\n",
    "from collections import Counter\n",
    "import scipy\n",
    "import cv2"
   ]
  },
  {
   "cell_type": "code",
   "execution_count": 54,
   "metadata": {},
   "outputs": [],
   "source": [
    "def get_key(dictionary, value):\n",
    "    for k,v in dictionary.items():\n",
    "        if v == value:\n",
    "            return k\n",
    "        \n",
    "def count_zero(array):\n",
    "    i = 0\n",
    "    for element in array:\n",
    "        if element == 0:\n",
    "            i+=1\n",
    "        else:\n",
    "            break\n",
    "    return i        \n",
    "        \n",
    "def image_to_cv(image):\n",
    "    image = Image.open(image)\n",
    "    a = np.asarray(image)\n",
    "    a = a.astype('float32')\n",
    "    a = a/(np.amax(a))\n",
    "    a = a*255\n",
    "    a = a.astype('uint8')\n",
    "    a = cv2.cvtColor(a, cv2.COLOR_GRAY2BGR)\n",
    "    a = cv2.cvtColor(a, cv2.COLOR_BGR2HSV)\n",
    "    a = cv2.cvtColor(a, cv2.COLOR_RGB2GRAY)\n",
    "    return a\n",
    "\n",
    "def got_x(array):\n",
    "    i = 0\n",
    "    for element in array:\n",
    "        if element == 0:\n",
    "            i+=1\n",
    "            continue\n",
    "        else:\n",
    "            i+=1\n",
    "            break\n",
    "    return i\n",
    "\n",
    "def got_y(array):\n",
    "    i = 0\n",
    "    for element in array:\n",
    "        if np.nanmax(element)==0:\n",
    "            i+=1\n",
    "            continue\n",
    "        else:\n",
    "            i+=1\n",
    "            break\n",
    "    return i\n",
    "\n",
    "def got_low_y(array):\n",
    "    i = 0\n",
    "    for element in reversed(array):\n",
    "        if np.nanmax(element)==0:\n",
    "            i+=1\n",
    "            continue\n",
    "        else:\n",
    "            i+=1\n",
    "            break\n",
    "    return i\n",
    "\n",
    "def len_segment(x1,y1,x2,y2):\n",
    "    return math.sqrt((x2-x1)**2+(y2-y1)**2)\n",
    "\n",
    "def lin_ur(x1,y1,x2,y2):\n",
    "    return (y1-y2),(x2-x1),(x1*y2-x2*y1) \n",
    "\n",
    "def cross_point(x1,y1,x2,y2,n1,n2):\n",
    "    m1 = np.array([[x1,y1],[x2,y2]])\n",
    "    v1 = np.array([-n1, -n2])\n",
    "    return np.linalg.solve(m1,v1)[0], np.linalg.solve(m1,v1)[1]\n",
    "\n",
    "def one_cont(image, number):\n",
    "    contours, hierarchy = cv2.findContours(image_to_cv(image),cv2.RETR_LIST, cv2.CHAIN_APPROX_SIMPLE)\n",
    "    quadr = (np.zeros((np.asarray(Image.open(image)).shape)))\n",
    "    cont = cv2.drawContours(quadr, contours, number, (1, 25, 212), 2, cv2.LINE_AA, hierarchy, 1000)\n",
    "    return cont"
   ]
  },
  {
   "cell_type": "code",
   "execution_count": 74,
   "metadata": {},
   "outputs": [],
   "source": [
    "def got_cont_number(image):\n",
    "    contours, hierarchy = cv2.findContours\\\n",
    "    (image_to_cv(image), cv2.RETR_LIST, cv2.CHAIN_APPROX_SIMPLE)\n",
    "    countur_areas = [cv2.contourArea(cont) for cont in contours]\n",
    "    collarbone_list = []\n",
    "    crossbone_list = []\n",
    "    #for i in range(5):\n",
    "    for i in range(4):\n",
    "        if countur_areas[i]>np.mean(countur_areas):\n",
    "            collarbone_list += [i]\n",
    "        else:\n",
    "            crossbone_list+= [i]\n",
    "    crossbone_list_x = [got_y(one_cont(image,crossbone_list[0])), got_y(one_cont(image,crossbone_list[1]))]\n",
    "    crossbone_dict = {crossbone_list[0]:crossbone_list_x[0], crossbone_list[1]:crossbone_list_x[1]}\n",
    "    crossbone_low_cont_number = get_key(crossbone_dict, max(crossbone_list_x))\n",
    "    crossbone_high_cont_number = get_key(crossbone_dict, min(crossbone_list_x))\n",
    "    collarbone_list_x = [got_y(one_cont(image,collarbone_list[0])), got_y(one_cont(image,\\\n",
    "                collarbone_list[1]))]\n",
    "                         #got_y(one_cont(image,collarbone_list[2]))]\n",
    "    collarbone_dict = {collarbone_list[0]: collarbone_list_x[0],\\\n",
    "                      #collarbone_list[1]: collarbone_list_x[1], \\\n",
    "                      collarbone_list[1]: collarbone_list_x[1]}\n",
    "    #collarbone_list.remove(get_key(collarbone_dict, max(collarbone_list_x)))\n",
    "    #del collarbone_dict[get_key(collarbone_dict, max(collarbone_list_x))]\n",
    "    collarbone_list_y = [got_y(one_cont(image,collarbone_list[0])[collarbone_dict[collarbone_list[0]]]), \\\n",
    "                        got_y(one_cont(image,collarbone_list[1])[collarbone_dict[collarbone_list[1]]])]\n",
    "    collarbone_dict_y = {collarbone_list[0]: got_y(one_cont(image,collarbone_list[0])\\\n",
    "                        [collarbone_dict[collarbone_list[0]]]), collarbone_list[1]:\n",
    "                        got_y(one_cont(image,collarbone_list[1])[collarbone_dict\\\n",
    "                        [collarbone_list[1]]])}\n",
    "    collarbone_right_cont_number = get_key(collarbone_dict_y, max(collarbone_list_y))\n",
    "    collarbone_left_cont_number = get_key(collarbone_dict_y, min(collarbone_list_y))\n",
    "    return crossbone_low_cont_number, crossbone_high_cont_number, \\\n",
    "        collarbone_right_cont_number, collarbone_left_cont_number"
   ]
  },
  {
   "cell_type": "code",
   "execution_count": 52,
   "metadata": {},
   "outputs": [],
   "source": [
    "def got_crossbone_center(crossbone_image):\n",
    "    y_begin = got_y(crossbone_image)\n",
    "    y_end = (crossbone_image.shape[0] - \\\n",
    "    got_y(reversed(crossbone_image)))\n",
    "    y_center = y_begin + (y_end - y_begin)//2\n",
    "    list_min = []\n",
    "    for i in range(y_begin,y_end+1):\n",
    "         list_min+=[(count_zero(crossbone_image[i]))]\n",
    "    x_begin = (min(list_min))\n",
    "    list_max = []\n",
    "    for i in range(y_begin,y_end+1):\n",
    "        list_max+= [(crossbone_image).shape[1] - (count_zero(reversed((crossbone_image)[i])))]\n",
    "    x_end = (max(list_max))\n",
    "    x_center = x_begin + (x_end - x_begin)//2\n",
    "    return (x_center, y_center)"
   ]
  },
  {
   "cell_type": "code",
   "execution_count": 6,
   "metadata": {},
   "outputs": [],
   "source": [
    "def got_right_collarbone_center(image):\n",
    "    right_coll = one_cont(image, got_cont_number(image)[2])\n",
    "    list_y = []\n",
    "    for i in range(right_coll.shape[0]):\n",
    "        if np.amax(right_coll[i]) > 0:\n",
    "            list_y += [i]\n",
    "    list_x = []\n",
    "    for i in list_y:\n",
    "        list_x += [got_x(right_coll[i])]\n",
    "    diff = np.diff(list_x)\n",
    "    cut_index = 1\n",
    "    for element in diff:\n",
    "        if abs(element) != np.amax(abs(diff)):\n",
    "            cut_index+=1\n",
    "        else:\n",
    "            break\n",
    "    cut_x = list_x[cut_index::]\n",
    "    cut_y = list_y[cut_index::]\n",
    "    x = cut_x[len(cut_x)//2]\n",
    "    y = cut_y[len(cut_y)//2]\n",
    "    return x,y"
   ]
  },
  {
   "cell_type": "code",
   "execution_count": 51,
   "metadata": {},
   "outputs": [],
   "source": [
    "def got_left_collarbone_center(image):\n",
    "    left_coll = one_cont(image, got_cont_number(image)[3])\n",
    "    list_y = []\n",
    "    for i in range(left_coll.shape[0]):\n",
    "        if np.amax(left_coll[i]) > 0:\n",
    "            list_y += [i]\n",
    "    list_x = []\n",
    "    for i in list_y:\n",
    "        list_x += [left_coll.shape[1] - got_x(list(reversed(left_coll[i])))]\n",
    "    diff = np.diff(list_x)\n",
    "    cut_index = 1\n",
    "    for element in diff:\n",
    "        if abs(element) != np.amax(abs(diff)):\n",
    "            cut_index+=1\n",
    "        else:\n",
    "            break\n",
    "    cut_x = list_x[cut_index::]\n",
    "    cut_y = list_y[cut_index::]\n",
    "    x = cut_x[len(cut_x)//2]\n",
    "    y = cut_y[len(cut_y)//2]\n",
    "    return x,y"
   ]
  },
  {
   "cell_type": "code",
   "execution_count": 50,
   "metadata": {},
   "outputs": [],
   "source": [
    "def collarbone_calculation(image):\n",
    "    contours, hierarchy = cv2.findContours(image_to_cv(image),cv2.RETR_LIST, cv2.CHAIN_APPROX_SIMPLE)\n",
    "    bone_high = one_cont(image, got_cont_number(image)[1])\n",
    "    bone_low = one_cont(image,got_cont_number(image)[0])\n",
    "    collarbone_left = one_cont(image,got_cont_number(image)[3])\n",
    "    collarbone_right = one_cont(image,got_cont_number(image)[2])\n",
    "    bone_high_y = got_crossbone_center(bone_high)[1]\n",
    "    bone_high_x = got_crossbone_center(bone_high)[0]\n",
    "    bone_low_y = got_crossbone_center(bone_low)[1]\n",
    "    bone_low_x = got_crossbone_center(bone_low)[0]\n",
    "    '''\n",
    "    collarbone_left_y1 = got_y(collarbone_left)\n",
    "    collarbone_left_x1 = got_x(collarbone_left[got_y(collarbone_left)])\n",
    "    collarbone_left_y2 = collarbone_left.shape[0] - got_low_y(collarbone_left)\n",
    "    collarbone_left_x2 = got_x(collarbone_left[collarbone_left.shape[0] - got_low_y(collarbone_left)])\n",
    "    '''\n",
    "    collarbone_left_x, collarbone_left_y, collarbone_left_n = \\\n",
    "    lin_ur(got_left_collarbone_center(image)[0], got_left_collarbone_center(image)[1], \\\n",
    "    got_left_collarbone_center(image)[0]+10, got_left_collarbone_center(image)[1])\n",
    "    \n",
    "    collarbone_right_x, collarbone_right_y, collarbone_right_n = \\\n",
    "    lin_ur(got_right_collarbone_center(image)[0], got_right_collarbone_center(image)[1], \\\n",
    "    got_right_collarbone_center(image)[0]+10, got_right_collarbone_center(image)[1])\n",
    "    \n",
    "    ''' \n",
    "    collarbone_right_y1 = collarbone_right.shape[0] - got_low_y(collarbone_right)\n",
    "    collarbone_right_x1 = got_x(collarbone_right[collarbone_right.shape[0] - got_low_y(collarbone_right)])\n",
    "    collarbone_right_y2 = got_y(collarbone_right)\n",
    "    collarbone_right_x2 = got_x(collarbone_right[got_y(collarbone_right)])\n",
    " \n",
    "    collarbone_right_x, collarbone_right_y, collarbone_right_n = \\\n",
    "    lin_ur(collarbone_right_x1, collarbone_right_y1, collarbone_right_x2, collarbone_right_y2)\n",
    "    collarbone_left_x, collarbone_left_y, collarbone_left_n = \\\n",
    "    lin_ur(collarbone_left_x1, collarbone_left_y1, collarbone_left_x2, collarbone_left_y2)\n",
    "    '''\n",
    "    bone_x, bone_y, bone_n = \\\n",
    "    lin_ur(bone_high_x, bone_high_y, bone_low_x, bone_low_y)\n",
    "    \n",
    "    cross_left_x, cross_left_y = \\\n",
    "    cross_point(collarbone_left_x, collarbone_left_y, bone_x, bone_y, collarbone_left_n, bone_n)\n",
    "    cross_right_x, cross_right_y = \\\n",
    "    cross_point(collarbone_right_x, collarbone_right_y, bone_x, bone_y, collarbone_right_n, bone_n)\n",
    "        \n",
    "    len_left_cross = len_segment(got_left_collarbone_center(image)[0],\\\n",
    "                                 got_left_collarbone_center(image)[1], cross_left_x, cross_left_y)\n",
    "    \n",
    "    len_right_cross = len_segment(got_right_collarbone_center(image)[0],\\\n",
    "                                  got_right_collarbone_center(image)[1], cross_right_x, cross_right_y)\n",
    "    \n",
    "    cross_list = [len_left_cross, len_right_cross]\n",
    "    \n",
    "    left_collarbone_center_x = got_left_collarbone_center(image)[0]\n",
    "    left_collarbone_center_y = got_left_collarbone_center(image)[1]\n",
    "    right_collarbone_center_x = got_right_collarbone_center(image)[0]\n",
    "    right_collarbone_center_y = got_right_collarbone_center(image)[1]\n",
    "     \n",
    "    im = plt.imread(image)\n",
    "\n",
    "    implot = plt.imshow(im)\n",
    "    plt.scatter([cross_right_x], [cross_right_y])\n",
    "    plt.scatter([cross_left_x], [cross_left_y])\n",
    "    plt.scatter([bone_low_x], [bone_low_y])\n",
    "    plt.scatter([bone_high_x], [bone_high_y])\n",
    "    plt.scatter([left_collarbone_center_x], [left_collarbone_center_y])\n",
    "    plt.scatter([right_collarbone_center_x], [right_collarbone_center_y])\n",
    "    \n",
    "    plt.plot((bone_low_x, bone_high_x), (bone_low_y,bone_high_y))\n",
    "        \n",
    "    plt.plot((left_collarbone_center_x,cross_left_x), (left_collarbone_center_y,cross_left_y))\n",
    "    plt.plot((right_collarbone_center_x, cross_right_x),(right_collarbone_center_y, cross_right_y))\n",
    "    \n",
    "\n",
    "    return str(round((1- (min(cross_list)/max(cross_list)))*100,2))+' %', plt.show()"
   ]
  },
  {
   "cell_type": "code",
   "execution_count": 22,
   "metadata": {},
   "outputs": [
    {
     "data": {
      "image/png": "[encoded data removed]",
      "text/plain": [
       "<Figure size 432x288 with 1 Axes>"
      ]
     },
     "metadata": {
      "needs_background": "light"
     },
     "output_type": "display_data"
    },
    {
     "name": "stdout",
     "output_type": "stream",
     "text": [
      "('17.88 %', None) 5_norm.png\n"
     ]
    },
    {
     "data": {
      "image/png": "[encoded data removed]",
      "text/plain": [
       "<Figure size 432x288 with 1 Axes>"
      ]
     },
     "metadata": {
      "needs_background": "light"
     },
     "output_type": "display_data"
    },
    {
     "name": "stdout",
     "output_type": "stream",
     "text": [
      "('63.21 %', None) 3_norm.png\n"
     ]
    }
   ],
   "source": [
    "for element in os.listdir('norm_mask/'):\n",
    "    print ((collarbone_calculation('norm_mask/'+element)), element)"
   ]
  },
  {
   "cell_type": "code",
   "execution_count": 21,
   "metadata": {},
   "outputs": [
    {
     "data": {
      "image/png": "[encoded data removed]",
      "text/plain": [
       "<Figure size 432x288 with 1 Axes>"
      ]
     },
     "metadata": {
      "needs_background": "light"
     },
     "output_type": "display_data"
    },
    {
     "data": {
      "text/plain": [
       "('23.54 %', None)"
      ]
     },
     "execution_count": 21,
     "metadata": {},
     "output_type": "execute_result"
    }
   ],
   "source": [
    "collarbone_calculation('1.png')"
   ]
  },
  {
   "cell_type": "code",
   "execution_count": 76,
   "metadata": {},
   "outputs": [
    {
     "name": "stdout",
     "output_type": "stream",
     "text": [
      "1custom.png\n"
     ]
    },
    {
     "data": {
      "image/png": "[encoded data removed]",
      "text/plain": [
       "<Figure size 432x288 with 1 Axes>"
      ]
     },
     "metadata": {
      "needs_background": "light"
     },
     "output_type": "display_data"
    },
    {
     "name": "stdout",
     "output_type": "stream",
     "text": [
      "('13.96 %', None)\n",
      "102_flurocustom.png\n"
     ]
    },
    {
     "data": {
      "image/png": "[encoded data removed]",
      "text/plain": [
       "<Figure size 432x288 with 1 Axes>"
      ]
     },
     "metadata": {
      "needs_background": "light"
     },
     "output_type": "display_data"
    },
    {
     "name": "stdout",
     "output_type": "stream",
     "text": [
      "('29.44 %', None)\n",
      "107_flurocustom.png\n"
     ]
    },
    {
     "data": {
      "image/png": "[encoded data removed]",
      "text/plain": [
       "<Figure size 432x288 with 1 Axes>"
      ]
     },
     "metadata": {
      "needs_background": "light"
     },
     "output_type": "display_data"
    },
    {
     "name": "stdout",
     "output_type": "stream",
     "text": [
      "('36.86 %', None)\n",
      "108_flurocustom.png\n"
     ]
    },
    {
     "data": {
      "image/png": "[encoded data removed]",
      "text/plain": [
       "<Figure size 432x288 with 1 Axes>"
      ]
     },
     "metadata": {
      "needs_background": "light"
     },
     "output_type": "display_data"
    },
    {
     "name": "stdout",
     "output_type": "stream",
     "text": [
      "('17.84 %', None)\n",
      "104_flurocustom.png\n"
     ]
    },
    {
     "data": {
      "image/png": "[encoded data removed]",
      "text/plain": [
       "<Figure size 432x288 with 1 Axes>"
      ]
     },
     "metadata": {
      "needs_background": "light"
     },
     "output_type": "display_data"
    },
    {
     "name": "stdout",
     "output_type": "stream",
     "text": [
      "('13.61 %', None)\n",
      "109_flurocustom.png\n"
     ]
    },
    {
     "data": {
      "image/png": "[encoded data removed]",
      "text/plain": [
       "<Figure size 432x288 with 1 Axes>"
      ]
     },
     "metadata": {
      "needs_background": "light"
     },
     "output_type": "display_data"
    },
    {
     "name": "stdout",
     "output_type": "stream",
     "text": [
      "('69.14 %', None)\n",
      "106_flurocustom.png\n"
     ]
    },
    {
     "data": {
      "image/png": "[encoded data removed]",
      "text/plain": [
       "<Figure size 432x288 with 1 Axes>"
      ]
     },
     "metadata": {
      "needs_background": "light"
     },
     "output_type": "display_data"
    },
    {
     "name": "stdout",
     "output_type": "stream",
     "text": [
      "('56.23 %', None)\n",
      "10_flurocustom.png\n"
     ]
    },
    {
     "data": {
      "image/png": "[encoded data removed]",
      "text/plain": [
       "<Figure size 432x288 with 1 Axes>"
      ]
     },
     "metadata": {
      "needs_background": "light"
     },
     "output_type": "display_data"
    },
    {
     "name": "stdout",
     "output_type": "stream",
     "text": [
      "('5.75 %', None)\n",
      "103_flurocustom.png\n"
     ]
    },
    {
     "data": {
      "image/png": "[encoded data removed]",
      "text/plain": [
       "<Figure size 432x288 with 1 Axes>"
      ]
     },
     "metadata": {
      "needs_background": "light"
     },
     "output_type": "display_data"
    },
    {
     "name": "stdout",
     "output_type": "stream",
     "text": [
      "('20.95 %', None)\n",
      "102_flurocustomcustom.png\n"
     ]
    },
    {
     "data": {
      "image/png": "[encoded data removed]",
      "text/plain": [
       "<Figure size 432x288 with 1 Axes>"
      ]
     },
     "metadata": {
      "needs_background": "light"
     },
     "output_type": "display_data"
    },
    {
     "name": "stdout",
     "output_type": "stream",
     "text": [
      "('29.44 %', None)\n"
     ]
    }
   ],
   "source": [
    "for element in os.listdir('mask/'):\n",
    "    print (element)\n",
    "    print (collarbone_calculation('mask/'+element))"
   ]
  }
 ],
 "metadata": {
  "kernelspec": {
   "display_name": "Python 3",
   "language": "python",
   "name": "python3"
  },
  "language_info": {
   "codemirror_mode": {
    "name": "ipython",
    "version": 3
   },
   "file_extension": ".py",
   "mimetype": "text/x-python",
   "name": "python",
   "nbconvert_exporter": "python",
   "pygments_lexer": "ipython3",
   "version": "3.6.8"
  }
 },
 "nbformat": 4,
 "nbformat_minor": 2
}
